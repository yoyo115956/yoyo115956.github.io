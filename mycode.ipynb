{
 "cells": [
  {
   "cell_type": "code",
   "execution_count": 13,
   "metadata": {},
   "outputs": [],
   "source": [
    "import re\n",
    "file_name = \"_posts/deep_learning/2024-01-12-dl-post-13\"\n",
    "def replace_math_tags(input_file_path, output_file_path):\n",
    "    # 读取原始md文件内容\n",
    "    with open(input_file_path, 'r', encoding='utf-8') as file:\n",
    "        content = file.read()\n",
    "\n",
    "    # 替换\\mathbf{xxx}格式\n",
    "    content = re.sub(r'\\\\mathbf{([^}]*)}', r'{\\1}', content)\n",
    "\n",
    "    # 替换\\mathbb{xxx}格式\n",
    "    content = re.sub(r'\\\\mathbb{([^}]*)}', r'{\\1}', content)\n",
    "\n",
    "    content = re.sub(r'\\\\\\[(.*?)\\\\\\]', r'{\\1}', content)\n",
    "\n",
    "\n",
    "    # 写入修改后的内容到新文件\n",
    "    with open(output_file_path, 'w', encoding='utf-8') as file:\n",
    "        file.write(content)\n",
    "\n",
    "if __name__ == \"__main__\":\n",
    "    input_file_path = file_name+\".md\"  # 请替换为你的输入md文件路径\n",
    "    output_file_path = file_name+\".md\"  # 请替换为你的输出md文件路径\n",
    "\n",
    "    replace_math_tags(input_file_path, output_file_path)\n"
   ]
  }
 ],
 "metadata": {
  "kernelspec": {
   "display_name": "python3.8",
   "language": "python",
   "name": "python3"
  },
  "language_info": {
   "codemirror_mode": {
    "name": "ipython",
    "version": 3
   },
   "file_extension": ".py",
   "mimetype": "text/x-python",
   "name": "python",
   "nbconvert_exporter": "python",
   "pygments_lexer": "ipython3",
   "version": "3.8.18"
  }
 },
 "nbformat": 4,
 "nbformat_minor": 2
}
